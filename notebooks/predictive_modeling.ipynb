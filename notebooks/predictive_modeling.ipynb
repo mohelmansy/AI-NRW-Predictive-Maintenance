{
 "cells": [
  {
   "cell_type": "markdown",
   "id": "b7e7c478",
   "metadata": {},
   "source": [
    "# 🧠 AI-Driven Predictive Maintenance for Water Utility Assets\n",
    "\n",
    "This notebook demonstrates the development of an AI-based predictive model to classify asset failure events in a water utility context. The goal is to enhance operational efficiency, reduce downtime, and support smarter maintenance planning through data-driven insights."
   ]
  },
  {
   "cell_type": "markdown",
   "id": "4a3464f1",
   "metadata": {},
   "source": [
    "## 📦 Import Required Libraries"
   ]
  },
  {
   "cell_type": "code",
   "execution_count": null,
   "id": "bc9bc54f",
   "metadata": {},
   "outputs": [],
   "source": [
    "import pandas as pd\n",
    "import numpy as np\n",
    "import matplotlib.pyplot as plt\n",
    "import seaborn as sns\n",
    "from sklearn.model_selection import train_test_split\n",
    "from sklearn.ensemble import RandomForestClassifier\n",
    "from sklearn.preprocessing import StandardScaler\n",
    "from sklearn.metrics import classification_report, confusion_matrix\n",
    "import warnings\n",
    "warnings.filterwarnings('ignore')\n",
    "sns.set(style='whitegrid')\n"
   ]
  },
  {
   "cell_type": "markdown",
   "id": "ed0d4d6f",
   "metadata": {},
   "source": [
    "## 📥 Load and Preview Dataset"
   ]
  },
  {
   "cell_type": "code",
   "execution_count": null,
   "id": "9a056aa4",
   "metadata": {},
   "outputs": [],
   "source": [
    "df = pd.read_csv(\"../data/sample_asset_data_full.csv\")\n",
    "df.head()\n"
   ]
  },
  {
   "cell_type": "markdown",
   "id": "ae1d7890",
   "metadata": {},
   "source": [
    "## 🔍 Data Overview"
   ]
  },
  {
   "cell_type": "code",
   "execution_count": null,
   "id": "5e5e3629",
   "metadata": {},
   "outputs": [],
   "source": [
    "df.info()\n"
   ]
  },
  {
   "cell_type": "code",
   "execution_count": null,
   "id": "77861f62",
   "metadata": {},
   "outputs": [],
   "source": [
    "df.describe()\n"
   ]
  },
  {
   "cell_type": "markdown",
   "id": "b7d6e60f",
   "metadata": {},
   "source": [
    "### 📊 Failure Distribution"
   ]
  },
  {
   "cell_type": "code",
   "execution_count": null,
   "id": "1a84b52a",
   "metadata": {},
   "outputs": [],
   "source": [
    "sns.countplot(x='Failure', data=df, palette='Set2')\n",
    "plt.title(\"Failure Class Distribution\")\n",
    "plt.xlabel(\"Failure (0 = No, 1 = Yes)\")\n",
    "plt.ylabel(\"Count\")\n",
    "plt.show()\n"
   ]
  },
  {
   "cell_type": "markdown",
   "id": "107e5f90",
   "metadata": {},
   "source": [
    "### 📦 Asset Conditions by Type"
   ]
  },
  {
   "cell_type": "code",
   "execution_count": null,
   "id": "5f6fdcc7",
   "metadata": {},
   "outputs": [],
   "source": [
    "plt.figure(figsize=(12, 6))\n",
    "sns.boxplot(x='Asset_Type', y='Vibration', data=df)\n",
    "plt.title(\"Vibration Distribution by Asset Type\")\n",
    "plt.show()\n"
   ]
  },
  {
   "cell_type": "markdown",
   "id": "b5660b44",
   "metadata": {},
   "source": [
    "## 📈 Correlation Analysis"
   ]
  },
  {
   "cell_type": "code",
   "execution_count": null,
   "id": "0a468b17",
   "metadata": {},
   "outputs": [],
   "source": [
    "plt.figure(figsize=(10, 6))\n",
    "sns.heatmap(df.corr(numeric_only=True), annot=True, cmap='coolwarm')\n",
    "plt.title(\"Correlation Heatmap\")\n",
    "plt.show()\n"
   ]
  },
  {
   "cell_type": "markdown",
   "id": "7bdeb02a",
   "metadata": {},
   "source": [
    "## 🧹 Data Preprocessing & Encoding"
   ]
  },
  {
   "cell_type": "code",
   "execution_count": null,
   "id": "5a4f81d3",
   "metadata": {},
   "outputs": [],
   "source": [
    "df_encoded = pd.get_dummies(df.drop(\"Asset_ID\", axis=1), drop_first=True)\n",
    "X = df_encoded.drop(\"Failure\", axis=1)\n",
    "y = df_encoded[\"Failure\"]\n",
    "\n",
    "scaler = StandardScaler()\n",
    "X_scaled = scaler.fit_transform(X)\n",
    "\n",
    "X_train, X_test, y_train, y_test = train_test_split(\n",
    "    X_scaled, y, test_size=0.2, stratify=y, random_state=42)\n"
   ]
  },
  {
   "cell_type": "markdown",
   "id": "9b751cc8",
   "metadata": {},
   "source": [
    "## 🧠 Model Training: Random Forest Classifier"
   ]
  },
  {
   "cell_type": "code",
   "execution_count": null,
   "id": "eeccfe33",
   "metadata": {},
   "outputs": [],
   "source": [
    "model = RandomForestClassifier(n_estimators=100, random_state=42)\n",
    "model.fit(X_train, y_train)\n"
   ]
  },
  {
   "cell_type": "markdown",
   "id": "708d229d",
   "metadata": {},
   "source": [
    "## ✅ Model Evaluation"
   ]
  },
  {
   "cell_type": "code",
   "execution_count": null,
   "id": "79a694b5",
   "metadata": {},
   "outputs": [],
   "source": [
    "y_pred = model.predict(X_test)\n",
    "print(\"Classification Report:\")\n",
    "print(classification_report(y_test, y_pred))\n"
   ]
  },
  {
   "cell_type": "code",
   "execution_count": null,
   "id": "f9b79266",
   "metadata": {},
   "outputs": [],
   "source": [
    "plt.figure(figsize=(6, 4))\n",
    "sns.heatmap(confusion_matrix(y_test, y_pred), annot=True, fmt='d', cmap='Blues')\n",
    "plt.title(\"Confusion Matrix\")\n",
    "plt.xlabel(\"Predicted\")\n",
    "plt.ylabel(\"Actual\")\n",
    "plt.show()\n"
   ]
  },
  {
   "cell_type": "markdown",
   "id": "2a723d37",
   "metadata": {},
   "source": [
    "## 📌 Feature Importance"
   ]
  },
  {
   "cell_type": "code",
   "execution_count": null,
   "id": "0d978211",
   "metadata": {},
   "outputs": [],
   "source": [
    "importances = model.feature_importances_\n",
    "feature_names = X.columns\n",
    "indices = np.argsort(importances)[::-1]\n",
    "\n",
    "plt.figure(figsize=(10, 6))\n",
    "sns.barplot(x=importances[indices][:10], y=feature_names[indices][:10], palette='viridis')\n",
    "plt.title(\"Top 10 Important Features\")\n",
    "plt.xlabel(\"Importance Score\")\n",
    "plt.ylabel(\"Feature\")\n",
    "plt.show()\n"
   ]
  },
  {
   "cell_type": "markdown",
   "id": "a258bc62",
   "metadata": {},
   "source": [
    "## 💾 Save Trained Model"
   ]
  },
  {
   "cell_type": "code",
   "execution_count": null,
   "id": "7efd4056",
   "metadata": {},
   "outputs": [],
   "source": [
    "from joblib import dump\n",
    "dump(model, \"../models/rf_model.pkl\")\n"
   ]
  },
  {
   "cell_type": "markdown",
   "id": "a4419ed5",
   "metadata": {},
   "source": [
    "## 📊 Final Insights & Operational Value\n",
    "\n",
    "- High vibration and temperature levels are key indicators of potential asset failure.\n",
    "- Predictive modeling can proactively inform **maintenance scheduling**, **SLA compliance checks**, and **contract scoring**.\n",
    "- This AI approach supports smart water management strategies and improves uptime, as proven in national-scale deployments.\n"
   ]
  }
 ],
 "metadata": {
  "language_info": {
   "name": "python"
  }
 },
 "nbformat": 4,
 "nbformat_minor": 5
}
